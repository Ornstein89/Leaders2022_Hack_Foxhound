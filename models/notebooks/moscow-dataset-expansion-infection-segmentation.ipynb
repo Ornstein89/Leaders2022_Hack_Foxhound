{
 "cells": [
  {
   "cell_type": "markdown",
   "id": "332bc584",
   "metadata": {
    "papermill": {
     "duration": 0.017498,
     "end_time": "2022-11-04T20:18:41.293311",
     "exception": false,
     "start_time": "2022-11-04T20:18:41.275813",
     "status": "completed"
    },
    "tags": []
   },
   "source": [
    "# Expandings moscow dataset"
   ]
  },
  {
   "cell_type": "markdown",
   "id": "b2d09ed8",
   "metadata": {
    "papermill": {
     "duration": 0.01567,
     "end_time": "2022-11-04T20:18:41.325408",
     "exception": false,
     "start_time": "2022-11-04T20:18:41.309738",
     "status": "completed"
    },
    "tags": []
   },
   "source": [
    "## Prepare"
   ]
  },
  {
   "cell_type": "code",
   "execution_count": 1,
   "id": "83d933ca",
   "metadata": {
    "execution": {
     "iopub.execute_input": "2022-11-04T20:18:41.407582Z",
     "iopub.status.busy": "2022-11-04T20:18:41.406354Z",
     "iopub.status.idle": "2022-11-04T20:19:20.283477Z",
     "shell.execute_reply": "2022-11-04T20:19:20.282860Z",
     "shell.execute_reply.started": "2022-11-04T19:54:20.499649Z"
    },
    "papermill": {
     "duration": 38.925695,
     "end_time": "2022-11-04T20:19:20.283694",
     "exception": false,
     "start_time": "2022-11-04T20:18:41.357999",
     "status": "completed"
    },
    "tags": []
   },
   "outputs": [
    {
     "name": "stdout",
     "output_type": "stream",
     "text": [
      "Collecting torchinfo\r\n",
      "  Downloading torchinfo-1.7.1-py3-none-any.whl (22 kB)\r\n",
      "Installing collected packages: torchinfo\r\n",
      "Successfully installed torchinfo-1.7.1\r\n",
      "\u001b[33mWARNING: Running pip as the 'root' user can result in broken permissions and conflicting behaviour with the system package manager. It is recommended to use a virtual environment instead: https://pip.pypa.io/warnings/venv\u001b[0m\r\n",
      "Collecting segmentation-models-pytorch\r\n",
      "  Downloading segmentation_models_pytorch-0.3.0-py3-none-any.whl (97 kB)\r\n",
      "     |████████████████████████████████| 97 kB 968 kB/s            \r\n",
      "\u001b[?25hCollecting pretrainedmodels==0.7.4\r\n",
      "  Downloading pretrainedmodels-0.7.4.tar.gz (58 kB)\r\n",
      "     |████████████████████████████████| 58 kB 2.5 MB/s            \r\n",
      "\u001b[?25h  Preparing metadata (setup.py) ... \u001b[?25l-\b \bdone\r\n",
      "\u001b[?25hRequirement already satisfied: tqdm in /opt/conda/lib/python3.7/site-packages (from segmentation-models-pytorch) (4.62.3)\r\n",
      "Requirement already satisfied: torchvision>=0.5.0 in /opt/conda/lib/python3.7/site-packages (from segmentation-models-pytorch) (0.10.1)\r\n",
      "Collecting efficientnet-pytorch==0.7.1\r\n",
      "  Downloading efficientnet_pytorch-0.7.1.tar.gz (21 kB)\r\n",
      "  Preparing metadata (setup.py) ... \u001b[?25l-\b \bdone\r\n",
      "\u001b[?25hCollecting timm==0.4.12\r\n",
      "  Downloading timm-0.4.12-py3-none-any.whl (376 kB)\r\n",
      "     |████████████████████████████████| 376 kB 3.5 MB/s            \r\n",
      "\u001b[?25hRequirement already satisfied: pillow in /opt/conda/lib/python3.7/site-packages (from segmentation-models-pytorch) (8.2.0)\r\n",
      "Requirement already satisfied: torch in /opt/conda/lib/python3.7/site-packages (from efficientnet-pytorch==0.7.1->segmentation-models-pytorch) (1.9.1)\r\n",
      "Requirement already satisfied: munch in /opt/conda/lib/python3.7/site-packages (from pretrainedmodels==0.7.4->segmentation-models-pytorch) (2.5.0)\r\n",
      "Requirement already satisfied: numpy in /opt/conda/lib/python3.7/site-packages (from torchvision>=0.5.0->segmentation-models-pytorch) (1.20.3)\r\n",
      "Requirement already satisfied: typing-extensions in /opt/conda/lib/python3.7/site-packages (from torch->efficientnet-pytorch==0.7.1->segmentation-models-pytorch) (4.1.1)\r\n",
      "Requirement already satisfied: six in /opt/conda/lib/python3.7/site-packages (from munch->pretrainedmodels==0.7.4->segmentation-models-pytorch) (1.16.0)\r\n",
      "Building wheels for collected packages: efficientnet-pytorch, pretrainedmodels\r\n",
      "  Building wheel for efficientnet-pytorch (setup.py) ... \u001b[?25l-\b \b\\\b \bdone\r\n",
      "\u001b[?25h  Created wheel for efficientnet-pytorch: filename=efficientnet_pytorch-0.7.1-py3-none-any.whl size=16446 sha256=d1626c9a66c319eaaeda94e08d75ec4eecec1d24e7d7b11f6cb95934be5c6a08\r\n",
      "  Stored in directory: /root/.cache/pip/wheels/0e/cc/b2/49e74588263573ff778da58cc99b9c6349b496636a7e165be6\r\n",
      "  Building wheel for pretrainedmodels (setup.py) ... \u001b[?25l-\b \b\\\b \bdone\r\n",
      "\u001b[?25h  Created wheel for pretrainedmodels: filename=pretrainedmodels-0.7.4-py3-none-any.whl size=60965 sha256=736a051bcd11e4da2f063690a87462cb92eab893cc6f00f60d13008a5202c4fb\r\n",
      "  Stored in directory: /root/.cache/pip/wheels/ed/27/e8/9543d42de2740d3544db96aefef63bda3f2c1761b3334f4873\r\n",
      "Successfully built efficientnet-pytorch pretrainedmodels\r\n",
      "Installing collected packages: timm, pretrainedmodels, efficientnet-pytorch, segmentation-models-pytorch\r\n",
      "Successfully installed efficientnet-pytorch-0.7.1 pretrainedmodels-0.7.4 segmentation-models-pytorch-0.3.0 timm-0.4.12\r\n",
      "\u001b[33mWARNING: Running pip as the 'root' user can result in broken permissions and conflicting behaviour with the system package manager. It is recommended to use a virtual environment instead: https://pip.pypa.io/warnings/venv\u001b[0m\r\n",
      "Collecting lungmask\r\n",
      "  Downloading lungmask-0.2.11-py3-none-any.whl (17 kB)\r\n",
      "Requirement already satisfied: torch in /opt/conda/lib/python3.7/site-packages (from lungmask) (1.9.1)\r\n",
      "Requirement already satisfied: pydicom in /opt/conda/lib/python3.7/site-packages (from lungmask) (2.2.2)\r\n",
      "Requirement already satisfied: scikit-image in /opt/conda/lib/python3.7/site-packages (from lungmask) (0.19.1)\r\n",
      "Requirement already satisfied: tqdm in /opt/conda/lib/python3.7/site-packages (from lungmask) (4.62.3)\r\n",
      "Requirement already satisfied: SimpleITK in /opt/conda/lib/python3.7/site-packages (from lungmask) (2.1.1)\r\n",
      "Requirement already satisfied: numpy in /opt/conda/lib/python3.7/site-packages (from lungmask) (1.20.3)\r\n",
      "Requirement already satisfied: scipy in /opt/conda/lib/python3.7/site-packages (from lungmask) (1.7.3)\r\n",
      "Collecting fill-voids\r\n",
      "  Downloading fill_voids-2.0.2-cp37-cp37m-manylinux2010_x86_64.whl (1.1 MB)\r\n",
      "     |████████████████████████████████| 1.1 MB 775 kB/s            \r\n",
      "\u001b[?25hCollecting fastremap\r\n",
      "  Downloading fastremap-1.13.3-cp37-cp37m-manylinux_2_17_x86_64.manylinux2014_x86_64.whl (4.2 MB)\r\n",
      "     |████████████████████████████████| 4.2 MB 44.0 MB/s            \r\n",
      "\u001b[?25hRequirement already satisfied: pillow!=7.1.0,!=7.1.1,!=8.3.0,>=6.1.0 in /opt/conda/lib/python3.7/site-packages (from scikit-image->lungmask) (8.2.0)\r\n",
      "Requirement already satisfied: imageio>=2.4.1 in /opt/conda/lib/python3.7/site-packages (from scikit-image->lungmask) (2.9.0)\r\n",
      "Requirement already satisfied: tifffile>=2019.7.26 in /opt/conda/lib/python3.7/site-packages (from scikit-image->lungmask) (2021.11.2)\r\n",
      "Requirement already satisfied: networkx>=2.2 in /opt/conda/lib/python3.7/site-packages (from scikit-image->lungmask) (2.6.3)\r\n",
      "Requirement already satisfied: packaging>=20.0 in /opt/conda/lib/python3.7/site-packages (from scikit-image->lungmask) (21.3)\r\n",
      "Requirement already satisfied: PyWavelets>=1.1.1 in /opt/conda/lib/python3.7/site-packages (from scikit-image->lungmask) (1.2.0)\r\n",
      "Requirement already satisfied: typing-extensions in /opt/conda/lib/python3.7/site-packages (from torch->lungmask) (4.1.1)\r\n",
      "Requirement already satisfied: pyparsing!=3.0.5,>=2.0.2 in /opt/conda/lib/python3.7/site-packages (from packaging>=20.0->scikit-image->lungmask) (3.0.6)\r\n",
      "Installing collected packages: fastremap, fill-voids, lungmask\r\n",
      "Successfully installed fastremap-1.13.3 fill-voids-2.0.2 lungmask-0.2.11\r\n",
      "\u001b[33mWARNING: Running pip as the 'root' user can result in broken permissions and conflicting behaviour with the system package manager. It is recommended to use a virtual environment instead: https://pip.pypa.io/warnings/venv\u001b[0m\r\n",
      "Collecting openpyxl\r\n",
      "  Downloading openpyxl-3.0.10-py2.py3-none-any.whl (242 kB)\r\n",
      "     |████████████████████████████████| 242 kB 905 kB/s            \r\n",
      "\u001b[?25hCollecting et-xmlfile\r\n",
      "  Downloading et_xmlfile-1.1.0-py3-none-any.whl (4.7 kB)\r\n",
      "Installing collected packages: et-xmlfile, openpyxl\r\n",
      "Successfully installed et-xmlfile-1.1.0 openpyxl-3.0.10\r\n",
      "\u001b[33mWARNING: Running pip as the 'root' user can result in broken permissions and conflicting behaviour with the system package manager. It is recommended to use a virtual environment instead: https://pip.pypa.io/warnings/venv\u001b[0m\r\n"
     ]
    }
   ],
   "source": [
    "!pip install torchinfo\n",
    "!pip install -U segmentation-models-pytorch\n",
    "!pip install lungmask\n",
    "!pip install openpyxl"
   ]
  },
  {
   "cell_type": "code",
   "execution_count": 2,
   "id": "294ba6d9",
   "metadata": {
    "_cell_guid": "b1076dfc-b9ad-4769-8c92-a6c4dae69d19",
    "_uuid": "8f2839f25d086af736a60e9eeb907d3b93b6e0e5",
    "execution": {
     "iopub.execute_input": "2022-11-04T20:19:20.361319Z",
     "iopub.status.busy": "2022-11-04T20:19:20.360495Z",
     "iopub.status.idle": "2022-11-04T20:19:23.748255Z",
     "shell.execute_reply": "2022-11-04T20:19:23.748776Z",
     "shell.execute_reply.started": "2022-11-04T19:55:01.459203Z"
    },
    "papermill": {
     "duration": 3.430091,
     "end_time": "2022-11-04T20:19:23.748938",
     "exception": false,
     "start_time": "2022-11-04T20:19:20.318847",
     "status": "completed"
    },
    "tags": []
   },
   "outputs": [],
   "source": [
    "import os\n",
    "import json\n",
    "import numpy as np\n",
    "import pandas as pd\n",
    "import nibabel as nib\n",
    "# DL\n",
    "import torch\n",
    "from torch import nn\n",
    "from torchinfo import summary\n",
    "from torch.utils.data import Dataset, DataLoader\n",
    "from torchvision import models\n",
    "import SimpleITK as sitk\n",
    "from lungmask import mask as unet_mask\n",
    "# Visualization\n",
    "import matplotlib.pyplot as plt\n",
    "from PIL import Image\n",
    "from mpl_toolkits.axes_grid1 import ImageGrid\n",
    "from tqdm.notebook import tqdm\n",
    "from IPython.display import clear_output, display\n",
    "import seaborn as sns"
   ]
  },
  {
   "cell_type": "code",
   "execution_count": 3,
   "id": "1bd4d2eb",
   "metadata": {
    "execution": {
     "iopub.execute_input": "2022-11-04T20:19:23.821705Z",
     "iopub.status.busy": "2022-11-04T20:19:23.821161Z",
     "iopub.status.idle": "2022-11-04T20:19:23.824841Z",
     "shell.execute_reply": "2022-11-04T20:19:23.824399Z",
     "shell.execute_reply.started": "2022-11-04T19:55:04.780822Z"
    },
    "papermill": {
     "duration": 0.041362,
     "end_time": "2022-11-04T20:19:23.824955",
     "exception": false,
     "start_time": "2022-11-04T20:19:23.783593",
     "status": "completed"
    },
    "tags": []
   },
   "outputs": [],
   "source": [
    "TGCOVID_PATH = \"../input/tgcovid\"\n",
    "KAGGLECOVID_PATH = \"../input/covid19-ct-scans\"\n",
    "MOSCOWCOVID_PATH = \"../input/covid19moscow/COVID19_1110\""
   ]
  },
  {
   "cell_type": "code",
   "execution_count": 4,
   "id": "8e9d7650",
   "metadata": {
    "execution": {
     "iopub.execute_input": "2022-11-04T20:19:23.905403Z",
     "iopub.status.busy": "2022-11-04T20:19:23.904694Z",
     "iopub.status.idle": "2022-11-04T20:19:23.907229Z",
     "shell.execute_reply": "2022-11-04T20:19:23.906831Z",
     "shell.execute_reply.started": "2022-11-04T19:55:04.789082Z"
    },
    "papermill": {
     "duration": 0.048368,
     "end_time": "2022-11-04T20:19:23.907333",
     "exception": false,
     "start_time": "2022-11-04T20:19:23.858965",
     "status": "completed"
    },
    "tags": []
   },
   "outputs": [],
   "source": [
    "def expand_path(*right_part):\n",
    "    def _expand_path(left_part):\n",
    "        return os.path.join(*right_part, left_part) \\\n",
    "            if left_part is not np.nan else np.nan\n",
    "    return _expand_path\n",
    "\n",
    "def load_tgcovid_data(json_file):\n",
    "    datapath = os.path.join(TGCOVID_PATH, \"data\", \"data\")\n",
    "    path_images = os.path.join(datapath, 'images')\n",
    "    path_labels = os.path.join(datapath, 'labels')\n",
    "    with open(os.path.join(TGCOVID_PATH, json_file), 'r') as f:\n",
    "        dict_data = json.load(f)\n",
    "\n",
    "    data = pd.DataFrame(dict_data)\n",
    "    # expand path to full\n",
    "    data[\"image\"] = data[\"image\"].apply(expand_path(path_images))\n",
    "    data[\"label\"] = data[\"label\"].apply(expand_path(path_labels))\n",
    "    # remove .gz\n",
    "    data[\"image\"] = data[\"image\"].str[:-3]\n",
    "    data[\"label\"] = data[\"label\"].str[:-3]\n",
    "    return data\n",
    "\n",
    "def load_kagglecovid_data(csv_file):\n",
    "    datapath = os.path.join(KAGGLECOVID_PATH, csv_file)\n",
    "    data = pd.read_csv(datapath)\n",
    "    data.rename(columns={\"ct_scan\":\"image\", \"infection_mask\":\"label\"}, inplace=True)\n",
    "    data.drop(\"lung_and_infection_mask\", inplace=True, axis=1)\n",
    "    return data\n",
    "\n",
    "def load_moscowcovid_data(xlsx_file):\n",
    "    datapath = os.path.join(MOSCOWCOVID_PATH, xlsx_file)\n",
    "    data = pd.read_excel(datapath)\n",
    "    data.rename(columns={\"study_file\":\"image\", \"mask_file\":\"label\"}, inplace=True)\n",
    "    data.drop([\"category\", \"study_id\"], axis=1, inplace=True)\n",
    "    data[\"image\"] = data[\"image\"].str[1:].apply(expand_path(MOSCOWCOVID_PATH))\n",
    "    data[\"label\"] = data[\"label\"].str[1:].apply(expand_path(MOSCOWCOVID_PATH))\n",
    "    # remove .gz\n",
    "    data[\"image\"] = data[\"image\"].str[:-3]\n",
    "    data[\"label\"] = data[\"label\"].str[:-3]\n",
    "    return data"
   ]
  },
  {
   "cell_type": "code",
   "execution_count": 5,
   "id": "7ef7c0b4",
   "metadata": {
    "execution": {
     "iopub.execute_input": "2022-11-04T20:19:23.979009Z",
     "iopub.status.busy": "2022-11-04T20:19:23.978424Z",
     "iopub.status.idle": "2022-11-04T20:19:24.259242Z",
     "shell.execute_reply": "2022-11-04T20:19:24.259728Z",
     "shell.execute_reply.started": "2022-11-04T19:55:04.804904Z"
    },
    "papermill": {
     "duration": 0.318713,
     "end_time": "2022-11-04T20:19:24.259878",
     "exception": false,
     "start_time": "2022-11-04T20:19:23.941165",
     "status": "completed"
    },
    "tags": []
   },
   "outputs": [
    {
     "data": {
      "text/html": [
       "<div>\n",
       "<style scoped>\n",
       "    .dataframe tbody tr th:only-of-type {\n",
       "        vertical-align: middle;\n",
       "    }\n",
       "\n",
       "    .dataframe tbody tr th {\n",
       "        vertical-align: top;\n",
       "    }\n",
       "\n",
       "    .dataframe thead th {\n",
       "        text-align: right;\n",
       "    }\n",
       "</style>\n",
       "<table border=\"1\" class=\"dataframe\">\n",
       "  <thead>\n",
       "    <tr style=\"text-align: right;\">\n",
       "      <th></th>\n",
       "      <th>image</th>\n",
       "      <th>label</th>\n",
       "    </tr>\n",
       "  </thead>\n",
       "  <tbody>\n",
       "    <tr>\n",
       "      <th>0</th>\n",
       "      <td>../input/covid19moscow/COVID19_1110/studies/CT...</td>\n",
       "      <td>NaN</td>\n",
       "    </tr>\n",
       "    <tr>\n",
       "      <th>1</th>\n",
       "      <td>../input/covid19moscow/COVID19_1110/studies/CT...</td>\n",
       "      <td>NaN</td>\n",
       "    </tr>\n",
       "    <tr>\n",
       "      <th>2</th>\n",
       "      <td>../input/covid19moscow/COVID19_1110/studies/CT...</td>\n",
       "      <td>NaN</td>\n",
       "    </tr>\n",
       "    <tr>\n",
       "      <th>3</th>\n",
       "      <td>../input/covid19moscow/COVID19_1110/studies/CT...</td>\n",
       "      <td>NaN</td>\n",
       "    </tr>\n",
       "    <tr>\n",
       "      <th>4</th>\n",
       "      <td>../input/covid19moscow/COVID19_1110/studies/CT...</td>\n",
       "      <td>NaN</td>\n",
       "    </tr>\n",
       "    <tr>\n",
       "      <th>...</th>\n",
       "      <td>...</td>\n",
       "      <td>...</td>\n",
       "    </tr>\n",
       "    <tr>\n",
       "      <th>1105</th>\n",
       "      <td>../input/covid19moscow/COVID19_1110/studies/CT...</td>\n",
       "      <td>NaN</td>\n",
       "    </tr>\n",
       "    <tr>\n",
       "      <th>1106</th>\n",
       "      <td>../input/covid19moscow/COVID19_1110/studies/CT...</td>\n",
       "      <td>NaN</td>\n",
       "    </tr>\n",
       "    <tr>\n",
       "      <th>1107</th>\n",
       "      <td>../input/covid19moscow/COVID19_1110/studies/CT...</td>\n",
       "      <td>NaN</td>\n",
       "    </tr>\n",
       "    <tr>\n",
       "      <th>1108</th>\n",
       "      <td>../input/covid19moscow/COVID19_1110/studies/CT...</td>\n",
       "      <td>NaN</td>\n",
       "    </tr>\n",
       "    <tr>\n",
       "      <th>1109</th>\n",
       "      <td>../input/covid19moscow/COVID19_1110/studies/CT...</td>\n",
       "      <td>NaN</td>\n",
       "    </tr>\n",
       "  </tbody>\n",
       "</table>\n",
       "<p>1110 rows × 2 columns</p>\n",
       "</div>"
      ],
      "text/plain": [
       "                                                  image label\n",
       "0     ../input/covid19moscow/COVID19_1110/studies/CT...   NaN\n",
       "1     ../input/covid19moscow/COVID19_1110/studies/CT...   NaN\n",
       "2     ../input/covid19moscow/COVID19_1110/studies/CT...   NaN\n",
       "3     ../input/covid19moscow/COVID19_1110/studies/CT...   NaN\n",
       "4     ../input/covid19moscow/COVID19_1110/studies/CT...   NaN\n",
       "...                                                 ...   ...\n",
       "1105  ../input/covid19moscow/COVID19_1110/studies/CT...   NaN\n",
       "1106  ../input/covid19moscow/COVID19_1110/studies/CT...   NaN\n",
       "1107  ../input/covid19moscow/COVID19_1110/studies/CT...   NaN\n",
       "1108  ../input/covid19moscow/COVID19_1110/studies/CT...   NaN\n",
       "1109  ../input/covid19moscow/COVID19_1110/studies/CT...   NaN\n",
       "\n",
       "[1110 rows x 2 columns]"
      ]
     },
     "execution_count": 5,
     "metadata": {},
     "output_type": "execute_result"
    }
   ],
   "source": [
    "dataset = load_moscowcovid_data(\"dataset_registry.xlsx\")\n",
    "dataset"
   ]
  },
  {
   "cell_type": "markdown",
   "id": "6fcd29a9",
   "metadata": {
    "papermill": {
     "duration": 0.03435,
     "end_time": "2022-11-04T20:19:24.329246",
     "exception": false,
     "start_time": "2022-11-04T20:19:24.294896",
     "status": "completed"
    },
    "tags": []
   },
   "source": [
    "## Visualization "
   ]
  },
  {
   "cell_type": "code",
   "execution_count": 6,
   "id": "76881913",
   "metadata": {
    "execution": {
     "iopub.execute_input": "2022-11-04T20:19:24.405580Z",
     "iopub.status.busy": "2022-11-04T20:19:24.404889Z",
     "iopub.status.idle": "2022-11-04T20:19:24.407455Z",
     "shell.execute_reply": "2022-11-04T20:19:24.407051Z",
     "shell.execute_reply.started": "2022-11-04T19:55:05.096588Z"
    },
    "papermill": {
     "duration": 0.043556,
     "end_time": "2022-11-04T20:19:24.407591",
     "exception": false,
     "start_time": "2022-11-04T20:19:24.364035",
     "status": "completed"
    },
    "tags": []
   },
   "outputs": [],
   "source": [
    "def normalize(x):\n",
    "    min_in = np.min(x)\n",
    "    max_in = np.max(x)\n",
    "    return (x - min_in) / (max_in - min_in + 1e-8)\n",
    "\n",
    "def slice2rgb(image, normalize_data=True):\n",
    "    image = image.astype(np.float32)\n",
    "    image = normalize(image) if normalize_data else image\n",
    "    image *= 255\n",
    "    image = np.dstack((image, image, image)).astype(np.uint8)\n",
    "    return Image.fromarray(image)\n",
    "\n",
    "def mask2blue(mask):\n",
    "    zeros = np.zeros_like(mask)\n",
    "    mask = np.dstack((zeros, zeros, mask * 255)).astype(np.uint8)\n",
    "    return Image.fromarray(mask)\n",
    "    \n",
    "def blend(image, mask, normalize_data=True):\n",
    "    return Image.blend(\n",
    "        slice2rgb(image, normalize_data=True),\n",
    "        mask2blue(mask),\n",
    "        alpha=.2\n",
    "    )"
   ]
  },
  {
   "cell_type": "code",
   "execution_count": 7,
   "id": "8c841578",
   "metadata": {
    "execution": {
     "iopub.execute_input": "2022-11-04T20:19:24.480156Z",
     "iopub.status.busy": "2022-11-04T20:19:24.479401Z",
     "iopub.status.idle": "2022-11-04T20:19:24.483665Z",
     "shell.execute_reply": "2022-11-04T20:19:24.483215Z",
     "shell.execute_reply.started": "2022-11-04T19:55:05.106816Z"
    },
    "papermill": {
     "duration": 0.041501,
     "end_time": "2022-11-04T20:19:24.483776",
     "exception": false,
     "start_time": "2022-11-04T20:19:24.442275",
     "status": "completed"
    },
    "tags": []
   },
   "outputs": [],
   "source": [
    "def save_ndarray_as_nii(data, path):\n",
    "    image = sitk.GetImageFromArray(data)\n",
    "    sitk.WriteImage(image, path, useCompression=True)"
   ]
  },
  {
   "cell_type": "markdown",
   "id": "fb09957b",
   "metadata": {
    "papermill": {
     "duration": 0.034819,
     "end_time": "2022-11-04T20:19:24.553459",
     "exception": false,
     "start_time": "2022-11-04T20:19:24.518640",
     "status": "completed"
    },
    "tags": []
   },
   "source": [
    "## Covid segmenation\n"
   ]
  },
  {
   "cell_type": "code",
   "execution_count": 8,
   "id": "68d8e4cf",
   "metadata": {
    "execution": {
     "iopub.execute_input": "2022-11-04T20:19:24.630656Z",
     "iopub.status.busy": "2022-11-04T20:19:24.629765Z",
     "iopub.status.idle": "2022-11-04T20:19:25.579099Z",
     "shell.execute_reply": "2022-11-04T20:19:25.578594Z",
     "shell.execute_reply.started": "2022-11-04T19:55:05.121554Z"
    },
    "papermill": {
     "duration": 0.988919,
     "end_time": "2022-11-04T20:19:25.579237",
     "exception": false,
     "start_time": "2022-11-04T20:19:24.590318",
     "status": "completed"
    },
    "tags": []
   },
   "outputs": [],
   "source": [
    "!mkdir artificial_masks"
   ]
  },
  {
   "cell_type": "code",
   "execution_count": 9,
   "id": "0b1d4717",
   "metadata": {
    "execution": {
     "iopub.execute_input": "2022-11-04T20:19:25.657918Z",
     "iopub.status.busy": "2022-11-04T20:19:25.657141Z",
     "iopub.status.idle": "2022-11-04T20:19:25.659837Z",
     "shell.execute_reply": "2022-11-04T20:19:25.659340Z",
     "shell.execute_reply.started": "2022-11-04T19:55:06.077119Z"
    },
    "papermill": {
     "duration": 0.043501,
     "end_time": "2022-11-04T20:19:25.659958",
     "exception": false,
     "start_time": "2022-11-04T20:19:25.616457",
     "status": "completed"
    },
    "tags": []
   },
   "outputs": [],
   "source": [
    "IMG_SIZE = (512, 512)\n",
    "BATCH_SIZE = 4\n",
    "N_WORKERS = 2\n",
    "THRESHOLD = .9\n",
    "WEIGHTS_PATH = \"../input/ct-scans-semantic-segmentation/epoch_90\""
   ]
  },
  {
   "cell_type": "code",
   "execution_count": 10,
   "id": "fe5052ac",
   "metadata": {
    "execution": {
     "iopub.execute_input": "2022-11-04T20:19:25.798262Z",
     "iopub.status.busy": "2022-11-04T20:19:25.797570Z",
     "iopub.status.idle": "2022-11-04T20:19:25.800146Z",
     "shell.execute_reply": "2022-11-04T20:19:25.799701Z",
     "shell.execute_reply.started": "2022-11-04T19:55:06.085705Z"
    },
    "papermill": {
     "duration": 0.104816,
     "end_time": "2022-11-04T20:19:25.800257",
     "exception": false,
     "start_time": "2022-11-04T20:19:25.695441",
     "status": "completed"
    },
    "tags": []
   },
   "outputs": [],
   "source": [
    "device = torch.device(\"cuda:0\" if torch.cuda.is_available() else \"cpu\")"
   ]
  },
  {
   "cell_type": "code",
   "execution_count": 11,
   "id": "ea1d74be",
   "metadata": {
    "execution": {
     "iopub.execute_input": "2022-11-04T20:19:25.877892Z",
     "iopub.status.busy": "2022-11-04T20:19:25.876342Z",
     "iopub.status.idle": "2022-11-04T20:19:25.880282Z",
     "shell.execute_reply": "2022-11-04T20:19:25.879878Z",
     "shell.execute_reply.started": "2022-11-04T19:55:06.153761Z"
    },
    "papermill": {
     "duration": 0.044861,
     "end_time": "2022-11-04T20:19:25.880390",
     "exception": false,
     "start_time": "2022-11-04T20:19:25.835529",
     "status": "completed"
    },
    "tags": []
   },
   "outputs": [],
   "source": [
    "class Scan3D(Dataset):\n",
    "    def __init__(self, path, transform=None):\n",
    "        self.transform = transform\n",
    "        self.images = []\n",
    "        data = self.load_data(path)\n",
    "        for idy in range(data.shape[-1]):\n",
    "            self.images.append(data[..., idy, np.newaxis])\n",
    "        \n",
    "    def __len__(self):\n",
    "        return len(self.images)\n",
    "    \n",
    "    def __getitem__(self, idx):\n",
    "        image = self.images[idx]\n",
    "        image = self.normalize(image)\n",
    "        \n",
    "        if self.transform is not None:\n",
    "            transformed = self.transform(image=image)\n",
    "            image = transformed[\"image\"]\n",
    "            \n",
    "        return image\n",
    "    \n",
    "    def load_data(self, path, dtype=\"float32\"):\n",
    "        return nib.load(path).get_fdata().astype(dtype)\n",
    "    \n",
    "    def normalize(self, x):\n",
    "        return normalize(x)"
   ]
  },
  {
   "cell_type": "code",
   "execution_count": 12,
   "id": "c12eac26",
   "metadata": {
    "execution": {
     "iopub.execute_input": "2022-11-04T20:19:25.953900Z",
     "iopub.status.busy": "2022-11-04T20:19:25.953211Z",
     "iopub.status.idle": "2022-11-04T20:19:26.923236Z",
     "shell.execute_reply": "2022-11-04T20:19:26.922748Z",
     "shell.execute_reply.started": "2022-11-04T19:55:06.164737Z"
    },
    "papermill": {
     "duration": 1.008431,
     "end_time": "2022-11-04T20:19:26.923369",
     "exception": false,
     "start_time": "2022-11-04T20:19:25.914938",
     "status": "completed"
    },
    "tags": []
   },
   "outputs": [],
   "source": [
    "import albumentations as A\n",
    "from albumentations.pytorch import ToTensorV2\n",
    "\n",
    "transform = A.Compose([\n",
    "    A.Resize(*IMG_SIZE),\n",
    "    ToTensorV2()\n",
    "])"
   ]
  },
  {
   "cell_type": "code",
   "execution_count": 13,
   "id": "5e79f77b",
   "metadata": {
    "execution": {
     "iopub.execute_input": "2022-11-04T20:19:27.035276Z",
     "iopub.status.busy": "2022-11-04T20:19:27.034518Z",
     "iopub.status.idle": "2022-11-04T20:19:27.039710Z",
     "shell.execute_reply": "2022-11-04T20:19:27.040708Z",
     "shell.execute_reply.started": "2022-11-04T19:55:07.166787Z"
    },
    "papermill": {
     "duration": 0.08246,
     "end_time": "2022-11-04T20:19:27.040944",
     "exception": false,
     "start_time": "2022-11-04T20:19:26.958484",
     "status": "completed"
    },
    "tags": []
   },
   "outputs": [],
   "source": [
    "def inference(model, data_path):\n",
    "    data = Scan3D(data_path, transform)\n",
    "    dataloader = DataLoader(data, BATCH_SIZE, False, num_workers=N_WORKERS)\n",
    "    masks = []\n",
    "    model.eval()\n",
    "    for image in dataloader:\n",
    "        image = image.to(device)\n",
    "        mask = model(image)\n",
    "        masks.append(mask.cpu().detach().numpy()[:, 0])\n",
    "    model.train()\n",
    "    return np.concatenate(masks, axis=0)"
   ]
  },
  {
   "cell_type": "code",
   "execution_count": 14,
   "id": "23a1b335",
   "metadata": {
    "execution": {
     "iopub.execute_input": "2022-11-04T20:19:27.183304Z",
     "iopub.status.busy": "2022-11-04T20:19:27.182451Z",
     "iopub.status.idle": "2022-11-04T20:19:40.759508Z",
     "shell.execute_reply": "2022-11-04T20:19:40.760058Z",
     "shell.execute_reply.started": "2022-11-04T19:55:07.178298Z"
    },
    "papermill": {
     "duration": 13.640676,
     "end_time": "2022-11-04T20:19:40.760238",
     "exception": false,
     "start_time": "2022-11-04T20:19:27.119562",
     "status": "completed"
    },
    "tags": []
   },
   "outputs": [
    {
     "name": "stderr",
     "output_type": "stream",
     "text": [
      "Downloading: \"https://github.com/rwightman/pytorch-image-models/releases/download/v0.1-weights/tf_efficientnet_b3_aa-84b4657e.pth\" to /root/.cache/torch/hub/checkpoints/tf_efficientnet_b3_aa-84b4657e.pth\n"
     ]
    },
    {
     "data": {
      "application/vnd.jupyter.widget-view+json": {
       "model_id": "e571c76abfa44f0aa418e7db976d7266",
       "version_major": 2,
       "version_minor": 0
      },
      "text/plain": [
       "  0%|          | 0.00/47.1M [00:00<?, ?B/s]"
      ]
     },
     "metadata": {},
     "output_type": "display_data"
    },
    {
     "name": "stdout",
     "output_type": "stream",
     "text": [
      "====================================================================================================\n",
      "Layer (type:depth-idx)                             Output Shape              Param #\n",
      "====================================================================================================\n",
      "UnetPlusPlus                                       [1, 1, 512, 512]          --\n",
      "├─EfficientNetEncoder: 1-1                         [1, 1, 512, 512]          592,896\n",
      "│    └─Conv2d: 2-1                                 [1, 40, 256, 256]         360\n",
      "│    └─BatchNorm2d: 2-2                            [1, 40, 256, 256]         80\n",
      "│    └─Swish: 2-3                                  [1, 40, 256, 256]         --\n",
      "│    └─Sequential: 2-4                             --                        --\n",
      "│    │    └─Sequential: 3-1                        [1, 24, 256, 256]         3,504\n",
      "│    │    └─Sequential: 3-2                        [1, 32, 128, 128]         48,118\n",
      "│    │    └─Sequential: 3-3                        [1, 48, 64, 64]           110,912\n",
      "│    │    └─Sequential: 3-4                        [1, 96, 32, 32]           638,700\n",
      "│    │    └─Sequential: 3-5                        [1, 136, 32, 32]          1,387,760\n",
      "│    │    └─Sequential: 3-6                        [1, 232, 16, 16]          4,628,964\n",
      "│    │    └─Sequential: 3-7                        [1, 384, 16, 16]          3,284,218\n",
      "├─UnetPlusPlusDecoder: 1-2                         [1, 16, 512, 512]         --\n",
      "│    └─ModuleDict: 2-5                             --                        --\n",
      "│    │    └─DecoderBlock: 3-8                      [1, 256, 32, 32]          1,788,928\n",
      "│    │    └─DecoderBlock: 3-9                      [1, 48, 64, 64]           100,416\n",
      "│    │    └─DecoderBlock: 3-10                     [1, 32, 128, 128]         32,384\n",
      "│    │    └─DecoderBlock: 3-11                     [1, 40, 256, 256]         40,480\n",
      "│    │    └─DecoderBlock: 3-12                     [1, 128, 64, 64]          553,472\n",
      "│    │    └─DecoderBlock: 3-13                     [1, 32, 128, 128]         41,600\n",
      "│    │    └─DecoderBlock: 3-14                     [1, 40, 256, 256]         54,880\n",
      "│    │    └─DecoderBlock: 3-15                     [1, 64, 128, 128]         166,144\n",
      "│    │    └─DecoderBlock: 3-16                     [1, 40, 256, 256]         69,280\n",
      "│    │    └─DecoderBlock: 3-17                     [1, 32, 256, 256]         73,856\n",
      "│    │    └─DecoderBlock: 3-18                     [1, 16, 512, 512]         6,976\n",
      "├─SegmentationHead: 1-3                            [1, 1, 512, 512]          --\n",
      "│    └─Conv2d: 2-6                                 [1, 1, 512, 512]          145\n",
      "│    └─Identity: 2-7                               [1, 1, 512, 512]          --\n",
      "│    └─Activation: 2-8                             [1, 1, 512, 512]          --\n",
      "│    │    └─Sigmoid: 3-19                          [1, 1, 512, 512]          --\n",
      "====================================================================================================\n",
      "Total params: 13,624,073\n",
      "Trainable params: 13,624,073\n",
      "Non-trainable params: 0\n",
      "Total mult-adds (G): 30.69\n",
      "====================================================================================================\n",
      "Input size (MB): 1.05\n",
      "Forward/backward pass size (MB): 1633.06\n",
      "Params size (MB): 52.12\n",
      "Estimated Total Size (MB): 1686.23\n",
      "====================================================================================================\n"
     ]
    }
   ],
   "source": [
    "from segmentation_models_pytorch import UnetPlusPlus\n",
    "\n",
    "model = UnetPlusPlus(\n",
    "    encoder_name=\"timm-efficientnet-b3\", encoder_depth=5, encoder_weights=\"imagenet\", \n",
    "    in_channels=1, classes=1, activation=\"sigmoid\", decoder_channels=(256, 128, 64, 32, 16),\n",
    ").to(device)\n",
    "\n",
    "try:\n",
    "    print(summary(model, (1, 1, *IMG_SIZE)))\n",
    "except:\n",
    "    print(\"Something go wrong with Summary.\")"
   ]
  },
  {
   "cell_type": "code",
   "execution_count": 15,
   "id": "55b30130",
   "metadata": {
    "execution": {
     "iopub.execute_input": "2022-11-04T20:19:40.845033Z",
     "iopub.status.busy": "2022-11-04T20:19:40.844371Z",
     "iopub.status.idle": "2022-11-04T20:19:43.056650Z",
     "shell.execute_reply": "2022-11-04T20:19:43.056176Z",
     "shell.execute_reply.started": "2022-11-04T19:55:23.092689Z"
    },
    "papermill": {
     "duration": 2.256485,
     "end_time": "2022-11-04T20:19:43.056794",
     "exception": false,
     "start_time": "2022-11-04T20:19:40.800309",
     "status": "completed"
    },
    "tags": []
   },
   "outputs": [
    {
     "name": "stdout",
     "output_type": "stream",
     "text": [
      "Model from epoch 90\n",
      "train_loss : 0.11613768646397542\n",
      "val_loss : 0.31235065827002895\n",
      "val_dice : 0.7434878257604746\n",
      "train_dice : 0.8430125106548526\n",
      "val_acc : 0.9900273573704255\n",
      "train_acc : 0.9975728546221232\n",
      "val_precision : nan\n",
      "train_precision : 0.8164154704391342\n",
      "val_recall : nan\n",
      "train_recall : 0.918734166425528\n",
      "grads : 0.4345550835132599\n"
     ]
    }
   ],
   "source": [
    "checkpoint = torch.load(WEIGHTS_PATH)\n",
    "model.load_state_dict(checkpoint[\"model_state_dict\"])\n",
    "model.to(device)\n",
    "print(\"Model from epoch\", checkpoint[\"epoch\"])\n",
    "for key, item in checkpoint[\"history\"].items():\n",
    "    print(key, \":\", item[-1])"
   ]
  },
  {
   "cell_type": "code",
   "execution_count": 16,
   "id": "4308e169",
   "metadata": {
    "execution": {
     "iopub.execute_input": "2022-11-04T20:19:43.135100Z",
     "iopub.status.busy": "2022-11-04T20:19:43.133489Z",
     "iopub.status.idle": "2022-11-04T20:19:43.135755Z",
     "shell.execute_reply": "2022-11-04T20:19:43.136157Z",
     "shell.execute_reply.started": "2022-11-04T19:55:25.747337Z"
    },
    "papermill": {
     "duration": 0.042958,
     "end_time": "2022-11-04T20:19:43.136289",
     "exception": false,
     "start_time": "2022-11-04T20:19:43.093331",
     "status": "completed"
    },
    "tags": []
   },
   "outputs": [],
   "source": [
    "def get_ones_box(size, borders): \n",
    "    box = np.zeros([size, size])\n",
    "    box[borders:(size-borders), borders:(size-borders)] = 1\n",
    "    return box"
   ]
  },
  {
   "cell_type": "code",
   "execution_count": 17,
   "id": "90301531",
   "metadata": {
    "execution": {
     "iopub.execute_input": "2022-11-04T20:19:43.214670Z",
     "iopub.status.busy": "2022-11-04T20:19:43.214107Z",
     "iopub.status.idle": "2022-11-04T20:19:43.217423Z",
     "shell.execute_reply": "2022-11-04T20:19:43.217005Z",
     "shell.execute_reply.started": "2022-11-04T19:55:25.755353Z"
    },
    "papermill": {
     "duration": 0.045629,
     "end_time": "2022-11-04T20:19:43.217555",
     "exception": false,
     "start_time": "2022-11-04T20:19:43.171926",
     "status": "completed"
    },
    "tags": []
   },
   "outputs": [],
   "source": [
    "def infection_segmentation(dataset, model):\n",
    "    segmentation_table = []\n",
    "    for idx in tqdm(dataset.index):\n",
    "        path = dataset.loc[idx, \"image\"]\n",
    "        mask = inference(model, path)\n",
    "        # box is need to remove mask near borders\n",
    "        box = np.concatenate(\n",
    "            [get_ones_box(512, 10)[np.newaxis, ...]]*mask.shape[0], axis=0)\n",
    "        mask = (mask >= THRESHOLD) * box\n",
    "        mask_path = os.path.join(\"artificial_masks\", os.path.basename(path))\n",
    "        save_ndarray_as_nii(np.uint8(mask), mask_path)\n",
    "        segmentation_table.append([idx, path, mask_path])\n",
    "    segmentation_table = pd.DataFrame(\n",
    "        segmentation_table, columns=[\"study_id\", \"image\", \"mask\"]).set_index(\"study_id\")\n",
    "    segmentation_table.to_csv(\"infection_data.csv\")"
   ]
  },
  {
   "cell_type": "code",
   "execution_count": 18,
   "id": "7b8f7183",
   "metadata": {
    "execution": {
     "iopub.execute_input": "2022-11-04T20:19:43.293614Z",
     "iopub.status.busy": "2022-11-04T20:19:43.292873Z",
     "iopub.status.idle": "2022-11-04T20:48:20.811117Z",
     "shell.execute_reply": "2022-11-04T20:48:20.811521Z"
    },
    "papermill": {
     "duration": 1717.558127,
     "end_time": "2022-11-04T20:48:20.811728",
     "exception": false,
     "start_time": "2022-11-04T20:19:43.253601",
     "status": "completed"
    },
    "tags": []
   },
   "outputs": [
    {
     "data": {
      "application/vnd.jupyter.widget-view+json": {
       "model_id": "958a83413e904295a2ea04fb36f109b3",
       "version_major": 2,
       "version_minor": 0
      },
      "text/plain": [
       "  0%|          | 0/1110 [00:00<?, ?it/s]"
      ]
     },
     "metadata": {},
     "output_type": "display_data"
    }
   ],
   "source": [
    "infection_segmentation(dataset, model)"
   ]
  }
 ],
 "metadata": {
  "kernelspec": {
   "display_name": "Python 3",
   "language": "python",
   "name": "python3"
  },
  "language_info": {
   "codemirror_mode": {
    "name": "ipython",
    "version": 3
   },
   "file_extension": ".py",
   "mimetype": "text/x-python",
   "name": "python",
   "nbconvert_exporter": "python",
   "pygments_lexer": "ipython3",
   "version": "3.7.12"
  },
  "papermill": {
   "default_parameters": {},
   "duration": 1790.04441,
   "end_time": "2022-11-04T20:48:23.301795",
   "environment_variables": {},
   "exception": null,
   "input_path": "__notebook__.ipynb",
   "output_path": "__notebook__.ipynb",
   "parameters": {},
   "start_time": "2022-11-04T20:18:33.257385",
   "version": "2.3.3"
  },
  "widgets": {
   "application/vnd.jupyter.widget-state+json": {
    "state": {
     "094093e939cc42e6be50f0ea828f4485": {
      "model_module": "@jupyter-widgets/base",
      "model_module_version": "1.2.0",
      "model_name": "LayoutModel",
      "state": {
       "_model_module": "@jupyter-widgets/base",
       "_model_module_version": "1.2.0",
       "_model_name": "LayoutModel",
       "_view_count": null,
       "_view_module": "@jupyter-widgets/base",
       "_view_module_version": "1.2.0",
       "_view_name": "LayoutView",
       "align_content": null,
       "align_items": null,
       "align_self": null,
       "border": null,
       "bottom": null,
       "display": null,
       "flex": null,
       "flex_flow": null,
       "grid_area": null,
       "grid_auto_columns": null,
       "grid_auto_flow": null,
       "grid_auto_rows": null,
       "grid_column": null,
       "grid_gap": null,
       "grid_row": null,
       "grid_template_areas": null,
       "grid_template_columns": null,
       "grid_template_rows": null,
       "height": null,
       "justify_content": null,
       "justify_items": null,
       "left": null,
       "margin": null,
       "max_height": null,
       "max_width": null,
       "min_height": null,
       "min_width": null,
       "object_fit": null,
       "object_position": null,
       "order": null,
       "overflow": null,
       "overflow_x": null,
       "overflow_y": null,
       "padding": null,
       "right": null,
       "top": null,
       "visibility": null,
       "width": null
      }
     },
     "18ff6dc1bec44df38feccf02343cda82": {
      "model_module": "@jupyter-widgets/base",
      "model_module_version": "1.2.0",
      "model_name": "LayoutModel",
      "state": {
       "_model_module": "@jupyter-widgets/base",
       "_model_module_version": "1.2.0",
       "_model_name": "LayoutModel",
       "_view_count": null,
       "_view_module": "@jupyter-widgets/base",
       "_view_module_version": "1.2.0",
       "_view_name": "LayoutView",
       "align_content": null,
       "align_items": null,
       "align_self": null,
       "border": null,
       "bottom": null,
       "display": null,
       "flex": null,
       "flex_flow": null,
       "grid_area": null,
       "grid_auto_columns": null,
       "grid_auto_flow": null,
       "grid_auto_rows": null,
       "grid_column": null,
       "grid_gap": null,
       "grid_row": null,
       "grid_template_areas": null,
       "grid_template_columns": null,
       "grid_template_rows": null,
       "height": null,
       "justify_content": null,
       "justify_items": null,
       "left": null,
       "margin": null,
       "max_height": null,
       "max_width": null,
       "min_height": null,
       "min_width": null,
       "object_fit": null,
       "object_position": null,
       "order": null,
       "overflow": null,
       "overflow_x": null,
       "overflow_y": null,
       "padding": null,
       "right": null,
       "top": null,
       "visibility": null,
       "width": null
      }
     },
     "283387494a334c2c8c0b876fd0484d11": {
      "model_module": "@jupyter-widgets/base",
      "model_module_version": "1.2.0",
      "model_name": "LayoutModel",
      "state": {
       "_model_module": "@jupyter-widgets/base",
       "_model_module_version": "1.2.0",
       "_model_name": "LayoutModel",
       "_view_count": null,
       "_view_module": "@jupyter-widgets/base",
       "_view_module_version": "1.2.0",
       "_view_name": "LayoutView",
       "align_content": null,
       "align_items": null,
       "align_self": null,
       "border": null,
       "bottom": null,
       "display": null,
       "flex": null,
       "flex_flow": null,
       "grid_area": null,
       "grid_auto_columns": null,
       "grid_auto_flow": null,
       "grid_auto_rows": null,
       "grid_column": null,
       "grid_gap": null,
       "grid_row": null,
       "grid_template_areas": null,
       "grid_template_columns": null,
       "grid_template_rows": null,
       "height": null,
       "justify_content": null,
       "justify_items": null,
       "left": null,
       "margin": null,
       "max_height": null,
       "max_width": null,
       "min_height": null,
       "min_width": null,
       "object_fit": null,
       "object_position": null,
       "order": null,
       "overflow": null,
       "overflow_x": null,
       "overflow_y": null,
       "padding": null,
       "right": null,
       "top": null,
       "visibility": null,
       "width": null
      }
     },
     "38cf6b65b05445e3b1bbe1ccc62a938b": {
      "model_module": "@jupyter-widgets/controls",
      "model_module_version": "1.5.0",
      "model_name": "HTMLModel",
      "state": {
       "_dom_classes": [],
       "_model_module": "@jupyter-widgets/controls",
       "_model_module_version": "1.5.0",
       "_model_name": "HTMLModel",
       "_view_count": null,
       "_view_module": "@jupyter-widgets/controls",
       "_view_module_version": "1.5.0",
       "_view_name": "HTMLView",
       "description": "",
       "description_tooltip": null,
       "layout": "IPY_MODEL_094093e939cc42e6be50f0ea828f4485",
       "placeholder": "​",
       "style": "IPY_MODEL_6783675717634cdc8c9d4e03b1f5dc85",
       "value": "100%"
      }
     },
     "4cb3dda6c5504ba5bedf30be34b3d108": {
      "model_module": "@jupyter-widgets/controls",
      "model_module_version": "1.5.0",
      "model_name": "DescriptionStyleModel",
      "state": {
       "_model_module": "@jupyter-widgets/controls",
       "_model_module_version": "1.5.0",
       "_model_name": "DescriptionStyleModel",
       "_view_count": null,
       "_view_module": "@jupyter-widgets/base",
       "_view_module_version": "1.2.0",
       "_view_name": "StyleView",
       "description_width": ""
      }
     },
     "4cbc023c14fd4910ac7a0c48d7bb22fb": {
      "model_module": "@jupyter-widgets/controls",
      "model_module_version": "1.5.0",
      "model_name": "DescriptionStyleModel",
      "state": {
       "_model_module": "@jupyter-widgets/controls",
       "_model_module_version": "1.5.0",
       "_model_name": "DescriptionStyleModel",
       "_view_count": null,
       "_view_module": "@jupyter-widgets/base",
       "_view_module_version": "1.2.0",
       "_view_name": "StyleView",
       "description_width": ""
      }
     },
     "515cd22690c64628ae819bd6917c3133": {
      "model_module": "@jupyter-widgets/controls",
      "model_module_version": "1.5.0",
      "model_name": "ProgressStyleModel",
      "state": {
       "_model_module": "@jupyter-widgets/controls",
       "_model_module_version": "1.5.0",
       "_model_name": "ProgressStyleModel",
       "_view_count": null,
       "_view_module": "@jupyter-widgets/base",
       "_view_module_version": "1.2.0",
       "_view_name": "StyleView",
       "bar_color": null,
       "description_width": ""
      }
     },
     "5a1c1311f4904fe4a2d6d591de47098b": {
      "model_module": "@jupyter-widgets/controls",
      "model_module_version": "1.5.0",
      "model_name": "FloatProgressModel",
      "state": {
       "_dom_classes": [],
       "_model_module": "@jupyter-widgets/controls",
       "_model_module_version": "1.5.0",
       "_model_name": "FloatProgressModel",
       "_view_count": null,
       "_view_module": "@jupyter-widgets/controls",
       "_view_module_version": "1.5.0",
       "_view_name": "ProgressView",
       "bar_style": "success",
       "description": "",
       "description_tooltip": null,
       "layout": "IPY_MODEL_85d5f8b70c9f4b01bb60a2210a894c34",
       "max": 49381362.0,
       "min": 0.0,
       "orientation": "horizontal",
       "style": "IPY_MODEL_515cd22690c64628ae819bd6917c3133",
       "value": 49381362.0
      }
     },
     "6783675717634cdc8c9d4e03b1f5dc85": {
      "model_module": "@jupyter-widgets/controls",
      "model_module_version": "1.5.0",
      "model_name": "DescriptionStyleModel",
      "state": {
       "_model_module": "@jupyter-widgets/controls",
       "_model_module_version": "1.5.0",
       "_model_name": "DescriptionStyleModel",
       "_view_count": null,
       "_view_module": "@jupyter-widgets/base",
       "_view_module_version": "1.2.0",
       "_view_name": "StyleView",
       "description_width": ""
      }
     },
     "7b26eaf24e1041c7802ab2f019c39941": {
      "model_module": "@jupyter-widgets/base",
      "model_module_version": "1.2.0",
      "model_name": "LayoutModel",
      "state": {
       "_model_module": "@jupyter-widgets/base",
       "_model_module_version": "1.2.0",
       "_model_name": "LayoutModel",
       "_view_count": null,
       "_view_module": "@jupyter-widgets/base",
       "_view_module_version": "1.2.0",
       "_view_name": "LayoutView",
       "align_content": null,
       "align_items": null,
       "align_self": null,
       "border": null,
       "bottom": null,
       "display": null,
       "flex": null,
       "flex_flow": null,
       "grid_area": null,
       "grid_auto_columns": null,
       "grid_auto_flow": null,
       "grid_auto_rows": null,
       "grid_column": null,
       "grid_gap": null,
       "grid_row": null,
       "grid_template_areas": null,
       "grid_template_columns": null,
       "grid_template_rows": null,
       "height": null,
       "justify_content": null,
       "justify_items": null,
       "left": null,
       "margin": null,
       "max_height": null,
       "max_width": null,
       "min_height": null,
       "min_width": null,
       "object_fit": null,
       "object_position": null,
       "order": null,
       "overflow": null,
       "overflow_x": null,
       "overflow_y": null,
       "padding": null,
       "right": null,
       "top": null,
       "visibility": null,
       "width": null
      }
     },
     "85d5f8b70c9f4b01bb60a2210a894c34": {
      "model_module": "@jupyter-widgets/base",
      "model_module_version": "1.2.0",
      "model_name": "LayoutModel",
      "state": {
       "_model_module": "@jupyter-widgets/base",
       "_model_module_version": "1.2.0",
       "_model_name": "LayoutModel",
       "_view_count": null,
       "_view_module": "@jupyter-widgets/base",
       "_view_module_version": "1.2.0",
       "_view_name": "LayoutView",
       "align_content": null,
       "align_items": null,
       "align_self": null,
       "border": null,
       "bottom": null,
       "display": null,
       "flex": null,
       "flex_flow": null,
       "grid_area": null,
       "grid_auto_columns": null,
       "grid_auto_flow": null,
       "grid_auto_rows": null,
       "grid_column": null,
       "grid_gap": null,
       "grid_row": null,
       "grid_template_areas": null,
       "grid_template_columns": null,
       "grid_template_rows": null,
       "height": null,
       "justify_content": null,
       "justify_items": null,
       "left": null,
       "margin": null,
       "max_height": null,
       "max_width": null,
       "min_height": null,
       "min_width": null,
       "object_fit": null,
       "object_position": null,
       "order": null,
       "overflow": null,
       "overflow_x": null,
       "overflow_y": null,
       "padding": null,
       "right": null,
       "top": null,
       "visibility": null,
       "width": null
      }
     },
     "958a83413e904295a2ea04fb36f109b3": {
      "model_module": "@jupyter-widgets/controls",
      "model_module_version": "1.5.0",
      "model_name": "HBoxModel",
      "state": {
       "_dom_classes": [],
       "_model_module": "@jupyter-widgets/controls",
       "_model_module_version": "1.5.0",
       "_model_name": "HBoxModel",
       "_view_count": null,
       "_view_module": "@jupyter-widgets/controls",
       "_view_module_version": "1.5.0",
       "_view_name": "HBoxView",
       "box_style": "",
       "children": [
        "IPY_MODEL_38cf6b65b05445e3b1bbe1ccc62a938b",
        "IPY_MODEL_ac5703f2d9224f3fa294ff1654f4f284",
        "IPY_MODEL_9c42b64407054eb7bad78e8cf3be5d1f"
       ],
       "layout": "IPY_MODEL_ab505c1badc84884ad96b8d32802e7a0"
      }
     },
     "9c42b64407054eb7bad78e8cf3be5d1f": {
      "model_module": "@jupyter-widgets/controls",
      "model_module_version": "1.5.0",
      "model_name": "HTMLModel",
      "state": {
       "_dom_classes": [],
       "_model_module": "@jupyter-widgets/controls",
       "_model_module_version": "1.5.0",
       "_model_name": "HTMLModel",
       "_view_count": null,
       "_view_module": "@jupyter-widgets/controls",
       "_view_module_version": "1.5.0",
       "_view_name": "HTMLView",
       "description": "",
       "description_tooltip": null,
       "layout": "IPY_MODEL_18ff6dc1bec44df38feccf02343cda82",
       "placeholder": "​",
       "style": "IPY_MODEL_fc39050cac714eb9bd90469a212467ec",
       "value": " 1110/1110 [28:37&lt;00:00,  1.65s/it]"
      }
     },
     "ab505c1badc84884ad96b8d32802e7a0": {
      "model_module": "@jupyter-widgets/base",
      "model_module_version": "1.2.0",
      "model_name": "LayoutModel",
      "state": {
       "_model_module": "@jupyter-widgets/base",
       "_model_module_version": "1.2.0",
       "_model_name": "LayoutModel",
       "_view_count": null,
       "_view_module": "@jupyter-widgets/base",
       "_view_module_version": "1.2.0",
       "_view_name": "LayoutView",
       "align_content": null,
       "align_items": null,
       "align_self": null,
       "border": null,
       "bottom": null,
       "display": null,
       "flex": null,
       "flex_flow": null,
       "grid_area": null,
       "grid_auto_columns": null,
       "grid_auto_flow": null,
       "grid_auto_rows": null,
       "grid_column": null,
       "grid_gap": null,
       "grid_row": null,
       "grid_template_areas": null,
       "grid_template_columns": null,
       "grid_template_rows": null,
       "height": null,
       "justify_content": null,
       "justify_items": null,
       "left": null,
       "margin": null,
       "max_height": null,
       "max_width": null,
       "min_height": null,
       "min_width": null,
       "object_fit": null,
       "object_position": null,
       "order": null,
       "overflow": null,
       "overflow_x": null,
       "overflow_y": null,
       "padding": null,
       "right": null,
       "top": null,
       "visibility": null,
       "width": null
      }
     },
     "ac5703f2d9224f3fa294ff1654f4f284": {
      "model_module": "@jupyter-widgets/controls",
      "model_module_version": "1.5.0",
      "model_name": "FloatProgressModel",
      "state": {
       "_dom_classes": [],
       "_model_module": "@jupyter-widgets/controls",
       "_model_module_version": "1.5.0",
       "_model_name": "FloatProgressModel",
       "_view_count": null,
       "_view_module": "@jupyter-widgets/controls",
       "_view_module_version": "1.5.0",
       "_view_name": "ProgressView",
       "bar_style": "success",
       "description": "",
       "description_tooltip": null,
       "layout": "IPY_MODEL_7b26eaf24e1041c7802ab2f019c39941",
       "max": 1110.0,
       "min": 0.0,
       "orientation": "horizontal",
       "style": "IPY_MODEL_cf6e7d9a3f8f4d048b0bb9f515ade2e2",
       "value": 1110.0
      }
     },
     "c3fdd9d1c3ac4c048b849e1ab574bba6": {
      "model_module": "@jupyter-widgets/controls",
      "model_module_version": "1.5.0",
      "model_name": "HTMLModel",
      "state": {
       "_dom_classes": [],
       "_model_module": "@jupyter-widgets/controls",
       "_model_module_version": "1.5.0",
       "_model_name": "HTMLModel",
       "_view_count": null,
       "_view_module": "@jupyter-widgets/controls",
       "_view_module_version": "1.5.0",
       "_view_name": "HTMLView",
       "description": "",
       "description_tooltip": null,
       "layout": "IPY_MODEL_283387494a334c2c8c0b876fd0484d11",
       "placeholder": "​",
       "style": "IPY_MODEL_4cb3dda6c5504ba5bedf30be34b3d108",
       "value": " 47.1M/47.1M [00:01&lt;00:00, 39.6MB/s]"
      }
     },
     "cf6e7d9a3f8f4d048b0bb9f515ade2e2": {
      "model_module": "@jupyter-widgets/controls",
      "model_module_version": "1.5.0",
      "model_name": "ProgressStyleModel",
      "state": {
       "_model_module": "@jupyter-widgets/controls",
       "_model_module_version": "1.5.0",
       "_model_name": "ProgressStyleModel",
       "_view_count": null,
       "_view_module": "@jupyter-widgets/base",
       "_view_module_version": "1.2.0",
       "_view_name": "StyleView",
       "bar_color": null,
       "description_width": ""
      }
     },
     "d707fa8961314e95ad43b9ecd38d1cf1": {
      "model_module": "@jupyter-widgets/base",
      "model_module_version": "1.2.0",
      "model_name": "LayoutModel",
      "state": {
       "_model_module": "@jupyter-widgets/base",
       "_model_module_version": "1.2.0",
       "_model_name": "LayoutModel",
       "_view_count": null,
       "_view_module": "@jupyter-widgets/base",
       "_view_module_version": "1.2.0",
       "_view_name": "LayoutView",
       "align_content": null,
       "align_items": null,
       "align_self": null,
       "border": null,
       "bottom": null,
       "display": null,
       "flex": null,
       "flex_flow": null,
       "grid_area": null,
       "grid_auto_columns": null,
       "grid_auto_flow": null,
       "grid_auto_rows": null,
       "grid_column": null,
       "grid_gap": null,
       "grid_row": null,
       "grid_template_areas": null,
       "grid_template_columns": null,
       "grid_template_rows": null,
       "height": null,
       "justify_content": null,
       "justify_items": null,
       "left": null,
       "margin": null,
       "max_height": null,
       "max_width": null,
       "min_height": null,
       "min_width": null,
       "object_fit": null,
       "object_position": null,
       "order": null,
       "overflow": null,
       "overflow_x": null,
       "overflow_y": null,
       "padding": null,
       "right": null,
       "top": null,
       "visibility": null,
       "width": null
      }
     },
     "e571c76abfa44f0aa418e7db976d7266": {
      "model_module": "@jupyter-widgets/controls",
      "model_module_version": "1.5.0",
      "model_name": "HBoxModel",
      "state": {
       "_dom_classes": [],
       "_model_module": "@jupyter-widgets/controls",
       "_model_module_version": "1.5.0",
       "_model_name": "HBoxModel",
       "_view_count": null,
       "_view_module": "@jupyter-widgets/controls",
       "_view_module_version": "1.5.0",
       "_view_name": "HBoxView",
       "box_style": "",
       "children": [
        "IPY_MODEL_e866a1a8b6644e3090d77a73369f6b87",
        "IPY_MODEL_5a1c1311f4904fe4a2d6d591de47098b",
        "IPY_MODEL_c3fdd9d1c3ac4c048b849e1ab574bba6"
       ],
       "layout": "IPY_MODEL_d707fa8961314e95ad43b9ecd38d1cf1"
      }
     },
     "e866a1a8b6644e3090d77a73369f6b87": {
      "model_module": "@jupyter-widgets/controls",
      "model_module_version": "1.5.0",
      "model_name": "HTMLModel",
      "state": {
       "_dom_classes": [],
       "_model_module": "@jupyter-widgets/controls",
       "_model_module_version": "1.5.0",
       "_model_name": "HTMLModel",
       "_view_count": null,
       "_view_module": "@jupyter-widgets/controls",
       "_view_module_version": "1.5.0",
       "_view_name": "HTMLView",
       "description": "",
       "description_tooltip": null,
       "layout": "IPY_MODEL_f006f57eeabc4ac9afa8687961bb49d2",
       "placeholder": "​",
       "style": "IPY_MODEL_4cbc023c14fd4910ac7a0c48d7bb22fb",
       "value": "100%"
      }
     },
     "f006f57eeabc4ac9afa8687961bb49d2": {
      "model_module": "@jupyter-widgets/base",
      "model_module_version": "1.2.0",
      "model_name": "LayoutModel",
      "state": {
       "_model_module": "@jupyter-widgets/base",
       "_model_module_version": "1.2.0",
       "_model_name": "LayoutModel",
       "_view_count": null,
       "_view_module": "@jupyter-widgets/base",
       "_view_module_version": "1.2.0",
       "_view_name": "LayoutView",
       "align_content": null,
       "align_items": null,
       "align_self": null,
       "border": null,
       "bottom": null,
       "display": null,
       "flex": null,
       "flex_flow": null,
       "grid_area": null,
       "grid_auto_columns": null,
       "grid_auto_flow": null,
       "grid_auto_rows": null,
       "grid_column": null,
       "grid_gap": null,
       "grid_row": null,
       "grid_template_areas": null,
       "grid_template_columns": null,
       "grid_template_rows": null,
       "height": null,
       "justify_content": null,
       "justify_items": null,
       "left": null,
       "margin": null,
       "max_height": null,
       "max_width": null,
       "min_height": null,
       "min_width": null,
       "object_fit": null,
       "object_position": null,
       "order": null,
       "overflow": null,
       "overflow_x": null,
       "overflow_y": null,
       "padding": null,
       "right": null,
       "top": null,
       "visibility": null,
       "width": null
      }
     },
     "fc39050cac714eb9bd90469a212467ec": {
      "model_module": "@jupyter-widgets/controls",
      "model_module_version": "1.5.0",
      "model_name": "DescriptionStyleModel",
      "state": {
       "_model_module": "@jupyter-widgets/controls",
       "_model_module_version": "1.5.0",
       "_model_name": "DescriptionStyleModel",
       "_view_count": null,
       "_view_module": "@jupyter-widgets/base",
       "_view_module_version": "1.2.0",
       "_view_name": "StyleView",
       "description_width": ""
      }
     }
    },
    "version_major": 2,
    "version_minor": 0
   }
  }
 },
 "nbformat": 4,
 "nbformat_minor": 5
}
